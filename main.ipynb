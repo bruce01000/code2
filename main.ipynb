{
 "cells": [
  {
   "cell_type": "code",
   "execution_count": 5,
   "metadata": {},
   "outputs": [
    {
     "name": "stdout",
     "output_type": "stream",
     "text": [
      "REPUBLICAN > DEMOCRAT : 8\n",
      "DEMOCRAT > REPUBLICAN : 5\n",
      "REPUBLICAN > DEMOCRAT (REPUBLICAN - DEMOCRAT - other)/2 array: [40514, 68801, 36128, 11866, 16552, 73956, 24534, 67167]\n"
     ]
    }
   ],
   "source": [
    "import pandas as pd\n",
    "import numpy as np\n",
    "\n",
    "# Reading Excel files\n",
    "file_path = 'North.xlsx'\n",
    "data = pd.read_excel(file_path)\n",
    "\n",
    "# Calculation of the number of districts with REPUBLICAN > DEMOCRAT\n",
    "republican_greater_count = len(data[data['REPUBLICAN'] > data['DEMOCRAT']])\n",
    "\n",
    "# Calculation of the number of districts with DEMOCRAT > REPUBLICAN\n",
    "democrat_greater_count = len(data[data['DEMOCRAT'] > data['REPUBLICAN']])\n",
    "\n",
    "# Calculate (REPUBLICAN - DEMOCRAT - other)/2) for all rows where (REPUBLICAN > DEMOCRAT) and store as array\n",
    "republican_greater_df = data[data['REPUBLICAN'] > data['DEMOCRAT']]\n",
    "result_array = ((republican_greater_df['REPUBLICAN'] - republican_greater_df['DEMOCRAT'] - republican_greater_df['other']) / 2).to_list()\n",
    "result_array_ceil = np.ceil(result_array).astype(int).tolist()  # Round up and convert to integer\n",
    "\n",
    "# Generate a dictionary, labelled with the district number and the value is the minimum number of changes\n",
    "region_ids = republican_greater_df.index.tolist()\n",
    "change_dict = {region_ids[i]: -result_array_ceil[i] for i in range(len(region_ids))}\n",
    "\n",
    "# Calculate (DEMOCRAT - REPUBLICAN - other)/2) for all rows with DEMOCRAT > REPUBLICAN and store as an array of negative numbers.\n",
    "democrat_greater_df = data[data['DEMOCRAT'] > data['REPUBLICAN']]\n",
    "result_array_democrat = ((democrat_greater_df['DEMOCRAT'] - democrat_greater_df['REPUBLICAN'] - democrat_greater_df['other']) / 2).to_list()\n",
    "result_array_ceil_democrat = np.ceil(result_array_democrat).astype(int).tolist()  # Round up and convert to negative\n",
    "\n",
    "# Update the dictionary to add the region DEMOCRAT > REPUBLICAN\n",
    "region_ids_democrat = democrat_greater_df.index.tolist()\n",
    "\n",
    "# print(result_array_ceil_democrat)\n",
    "\n",
    "for i in range(len(region_ids_democrat)):\n",
    "    change_dict[region_ids_democrat[i]] = 1*result_array_ceil_democrat[i]\n",
    "\n",
    "# output result\n",
    "print(\"REPUBLICAN > DEMOCRAT :\", republican_greater_count)\n",
    "print(\"DEMOCRAT > REPUBLICAN :\", democrat_greater_count)\n",
    "print(\"REPUBLICAN > DEMOCRAT (REPUBLICAN - DEMOCRAT - other)/2 array:\", result_array_ceil)\n",
    "\n",
    "num_to_change = (republican_greater_count - democrat_greater_count) / 2 + 1\n",
    "\n"
   ]
  },
  {
   "cell_type": "code",
   "execution_count": 6,
   "metadata": {},
   "outputs": [
    {
     "name": "stdout",
     "output_type": "stream",
     "text": [
      "[list([2, 3]) list([6, 7]) list([0, 6]) list([0, 6, 7, 12])\n",
      " list([9, 10, 11]) list([9, 12]) list([0, 1, 2, 3, 7, 8])\n",
      " list([1, 3, 6, 8, 11, 12]) list([6, 7, 11]) list([4, 5, 11, 12])\n",
      " list([4]) list([4, 7, 8, 9]) list([3, 5, 7, 9])]\n"
     ]
    }
   ],
   "source": [
    "# Reading an Excel file and specifying column names\n",
    "file_path = 'graph.xlsx'\n",
    "df = pd.read_excel(file_path, header=None, names=['node', 'neighbors'])\n",
    "\n",
    "# Get the number of nodes\n",
    "num_nodes = df['node'].max()\n",
    "\n",
    "# Initialise a two-dimensional array to store the adjacencies\n",
    "adjacency_list = [[] for _ in range(num_nodes)]\n",
    "\n",
    "# Parsing data and populating 2D arrays\n",
    "for index, row in df.iterrows():\n",
    "    node = row['node']\n",
    "    neighbors = row['neighbors']\n",
    "    # Split Neighbourhood Nodes\n",
    "    neighbor_nodes = [(int(n)-1) for n in str(neighbors).split(',')]\n",
    "    adjacency_list[node-1] = neighbor_nodes\n",
    "\n",
    "# Convert to numpy array and print the result\n",
    "adjacency_array = np.array(adjacency_list, dtype=object)\n",
    "print(adjacency_array)\n"
   ]
  },
  {
   "cell_type": "code",
   "execution_count": 7,
   "metadata": {},
   "outputs": [
    {
     "name": "stdout",
     "output_type": "stream",
     "text": [
      "Result dictionary: {0: [], 5: [], 1: [6, 7], 3: [6, 7, 12], 11: [4, 7, 8, 9]}\n"
     ]
    }
   ],
   "source": [
    "# Get the number of district with a positive value and sort them by absolute value from smallest to largest.\n",
    "positive_regions = sorted((k for k, v in change_dict.items() if v > 0), key=lambda k: abs(change_dict[k]))\n",
    "\n",
    "# Get the number of district with negative values and sort them in descending order of absolute value.\n",
    "negative_regions = sorted((k for k, v in change_dict.items() if v < 0), key=lambda k: abs(change_dict[k]))\n",
    "\n",
    "# Create a dictionary to store the results\n",
    "result_dict = {}\n",
    "\n",
    "# Iterate over positive district numbers\n",
    "for supplier in positive_regions:\n",
    "    supply_amount = change_dict[supplier]\n",
    "    neighbors = adjacency_array[supplier]\n",
    "    # Filtering out neighbouring negative area codes with an absolute value less than the current positive district code\n",
    "    filtered_neighbors = [neighbor for neighbor in neighbors if neighbor in change_dict and change_dict[neighbor] < 0 and abs(change_dict[neighbor]) < supply_amount]\n",
    "    result_dict[supplier] = filtered_neighbors\n",
    "\n",
    "# Output Result Dictionary\n",
    "print(\"Result dictionary:\", result_dict)"
   ]
  },
  {
   "cell_type": "code",
   "execution_count": 8,
   "metadata": {},
   "outputs": [
    {
     "name": "stdout",
     "output_type": "stream",
     "text": [
      "Total change needed: 28418\n"
     ]
    }
   ],
   "source": [
    "\n",
    "# Initialise num_to_change and total_change\n",
    "num_to_change = (republican_greater_count - democrat_greater_count) // 2 + 1\n",
    "total_change = 0\n",
    "\n",
    "# Marks districts that have already been traversed\n",
    "visited_regions = set()\n",
    "\n",
    "# Traversing negative regions\n",
    "for receiver in negative_regions:\n",
    "    if num_to_change <= 0:\n",
    "        break\n",
    "    if receiver in visited_regions:\n",
    "        continue\n",
    "    \n",
    "    # Find a positive area that can cover the negative region\n",
    "    candidates = [supplier for supplier in result_dict if receiver in result_dict[supplier] and supplier not in visited_regions]\n",
    "    if not candidates:\n",
    "        continue\n",
    "    \n",
    "    # Select the region whose result_dict corresponds to the smallest length of the array, or the region with the smallest positive value if it is the same.\n",
    "    selected_supplier = min(candidates, key=lambda supplier: (len(result_dict[supplier]), change_dict[supplier]))\n",
    "\n",
    "    # Marks regions as traversed\n",
    "    visited_regions.add(receiver)\n",
    "    visited_regions.add(selected_supplier)\n",
    "    \n",
    "    # Update num_to_change and total_change\n",
    "    num_to_change -= 1\n",
    "    total_change += abs(change_dict[receiver])\n",
    "\n",
    "if num_to_change > 0:\n",
    "    print(\"unrealistic\")\n",
    "else:\n",
    "    print(\"Total change needed:\", total_change)"
   ]
  },
  {
   "cell_type": "code",
   "execution_count": null,
   "metadata": {},
   "outputs": [],
   "source": []
  }
 ],
 "metadata": {
  "kernelspec": {
   "display_name": "Python 3 (ipykernel)",
   "language": "python",
   "name": "python3"
  },
  "language_info": {
   "codemirror_mode": {
    "name": "ipython",
    "version": 3
   },
   "file_extension": ".py",
   "mimetype": "text/x-python",
   "name": "python",
   "nbconvert_exporter": "python",
   "pygments_lexer": "ipython3",
   "version": "3.11.5"
  }
 },
 "nbformat": 4,
 "nbformat_minor": 2
}
